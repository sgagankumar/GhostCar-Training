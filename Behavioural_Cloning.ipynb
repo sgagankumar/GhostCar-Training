{
  "nbformat": 4,
  "nbformat_minor": 0,
  "metadata": {
    "colab": {
      "name": "Behavioural Cloning.ipynb",
      "provenance": [],
      "collapsed_sections": [],
      "authorship_tag": "ABX9TyNTbzFNlf9snMjRXyPxmcBr",
      "include_colab_link": true
    },
    "kernelspec": {
      "name": "python3",
      "display_name": "Python 3"
    }
  },
  "cells": [
    {
      "cell_type": "markdown",
      "metadata": {
        "id": "view-in-github",
        "colab_type": "text"
      },
      "source": [
        "<a href=\"https://colab.research.google.com/github/sgagankumar/The-GhostCar-An-Autonomous-Car-Project/blob/master/Behavioural_Cloning.ipynb\" target=\"_parent\"><img src=\"https://colab.research.google.com/assets/colab-badge.svg\" alt=\"Open In Colab\"/></a>"
      ]
    },
    {
      "cell_type": "markdown",
      "metadata": {
        "id": "jaUurBmxkcBG",
        "colab_type": "text"
      },
      "source": [
        "UDACITY SIMULATOR BEHAVIOURAL CLONING TECHNIQUE"
      ]
    },
    {
      "cell_type": "code",
      "metadata": {
        "id": "kiq5GiJlkNhv",
        "colab_type": "code",
        "outputId": "bc484678-8ae0-4135-e566-842b160705d9",
        "colab": {
          "base_uri": "https://localhost:8080/",
          "height": 102
        }
      },
      "source": [
        "!git clone https://github.com/rslim087a/track"
      ],
      "execution_count": 0,
      "outputs": [
        {
          "output_type": "stream",
          "text": [
            "Cloning into 'track'...\n",
            "remote: Enumerating objects: 12163, done.\u001b[K\n",
            "remote: Total 12163 (delta 0), reused 0 (delta 0), pack-reused 12163\u001b[K\n",
            "Receiving objects: 100% (12163/12163), 156.98 MiB | 10.51 MiB/s, done.\n",
            "Checking out files: 100% (12160/12160), done.\n"
          ],
          "name": "stdout"
        }
      ]
    },
    {
      "cell_type": "code",
      "metadata": {
        "id": "2IHnQ7RpkuD-",
        "colab_type": "code",
        "outputId": "b82e20e0-71f8-4cb0-a1e8-1f53d3b97908",
        "colab": {
          "base_uri": "https://localhost:8080/",
          "height": 34
        }
      },
      "source": [
        "!ls track"
      ],
      "execution_count": 0,
      "outputs": [
        {
          "output_type": "stream",
          "text": [
            "driving_log.csv  IMG\n"
          ],
          "name": "stdout"
        }
      ]
    },
    {
      "cell_type": "code",
      "metadata": {
        "id": "SzcgaaxGkwEN",
        "colab_type": "code",
        "colab": {}
      },
      "source": [
        "import numpy as np\n",
        "import matplotlib.pyplot as plt\n",
        "import keras\n",
        "from keras.models import Sequential\n",
        "from keras.optimizers import Adam\n",
        "from keras.layers import Conv2D, MaxPooling2D, Dropout, Flatten, Dense\n",
        "import cv2\n",
        "import pandas as pd\n",
        "import random\n",
        "import ntpath\n",
        "from sklearn.utils import shuffle\n",
        "from sklearn.model_selection import train_test_split\n",
        "random.seed(0)\n",
        "import os"
      ],
      "execution_count": 0,
      "outputs": []
    },
    {
      "cell_type": "code",
      "metadata": {
        "id": "UnM-bLkhlUrW",
        "colab_type": "code",
        "colab": {}
      },
      "source": [
        "datadir = 'track'\n",
        "columns = ['center','left','right','steering','throttle','reverse','speed']\n",
        "data = pd.read_csv(os.path.join(datadir, 'driving_log.csv'), names = columns)\n",
        "pd.set_option('display.max_colwidth',-1)\n",
        "# data.head()"
      ],
      "execution_count": 0,
      "outputs": []
    },
    {
      "cell_type": "code",
      "metadata": {
        "id": "3ZuGGPSnlx52",
        "colab_type": "code",
        "outputId": "062f12bf-3473-409a-b0d3-9a82938185d1",
        "colab": {
          "base_uri": "https://localhost:8080/",
          "height": 204
        }
      },
      "source": [
        "def path_leaf(path):\n",
        "    head, tail = ntpath.split(path)\n",
        "    return tail\n",
        "data['center']=data['center'].apply(path_leaf)\n",
        "data['left']=data['left'].apply(path_leaf)\n",
        "data['right']=data['right'].apply(path_leaf)\n",
        "data.head()"
      ],
      "execution_count": 0,
      "outputs": [
        {
          "output_type": "execute_result",
          "data": {
            "text/html": [
              "<div>\n",
              "<style scoped>\n",
              "    .dataframe tbody tr th:only-of-type {\n",
              "        vertical-align: middle;\n",
              "    }\n",
              "\n",
              "    .dataframe tbody tr th {\n",
              "        vertical-align: top;\n",
              "    }\n",
              "\n",
              "    .dataframe thead th {\n",
              "        text-align: right;\n",
              "    }\n",
              "</style>\n",
              "<table border=\"1\" class=\"dataframe\">\n",
              "  <thead>\n",
              "    <tr style=\"text-align: right;\">\n",
              "      <th></th>\n",
              "      <th>center</th>\n",
              "      <th>left</th>\n",
              "      <th>right</th>\n",
              "      <th>steering</th>\n",
              "      <th>throttle</th>\n",
              "      <th>reverse</th>\n",
              "      <th>speed</th>\n",
              "    </tr>\n",
              "  </thead>\n",
              "  <tbody>\n",
              "    <tr>\n",
              "      <th>0</th>\n",
              "      <td>center_2018_07_16_17_11_43_382.jpg</td>\n",
              "      <td>left_2018_07_16_17_11_43_382.jpg</td>\n",
              "      <td>right_2018_07_16_17_11_43_382.jpg</td>\n",
              "      <td>0.0</td>\n",
              "      <td>0.0</td>\n",
              "      <td>0.0</td>\n",
              "      <td>0.649786</td>\n",
              "    </tr>\n",
              "    <tr>\n",
              "      <th>1</th>\n",
              "      <td>center_2018_07_16_17_11_43_670.jpg</td>\n",
              "      <td>left_2018_07_16_17_11_43_670.jpg</td>\n",
              "      <td>right_2018_07_16_17_11_43_670.jpg</td>\n",
              "      <td>0.0</td>\n",
              "      <td>0.0</td>\n",
              "      <td>0.0</td>\n",
              "      <td>0.627942</td>\n",
              "    </tr>\n",
              "    <tr>\n",
              "      <th>2</th>\n",
              "      <td>center_2018_07_16_17_11_43_724.jpg</td>\n",
              "      <td>left_2018_07_16_17_11_43_724.jpg</td>\n",
              "      <td>right_2018_07_16_17_11_43_724.jpg</td>\n",
              "      <td>0.0</td>\n",
              "      <td>0.0</td>\n",
              "      <td>0.0</td>\n",
              "      <td>0.622910</td>\n",
              "    </tr>\n",
              "    <tr>\n",
              "      <th>3</th>\n",
              "      <td>center_2018_07_16_17_11_43_792.jpg</td>\n",
              "      <td>left_2018_07_16_17_11_43_792.jpg</td>\n",
              "      <td>right_2018_07_16_17_11_43_792.jpg</td>\n",
              "      <td>0.0</td>\n",
              "      <td>0.0</td>\n",
              "      <td>0.0</td>\n",
              "      <td>0.619162</td>\n",
              "    </tr>\n",
              "    <tr>\n",
              "      <th>4</th>\n",
              "      <td>center_2018_07_16_17_11_43_860.jpg</td>\n",
              "      <td>left_2018_07_16_17_11_43_860.jpg</td>\n",
              "      <td>right_2018_07_16_17_11_43_860.jpg</td>\n",
              "      <td>0.0</td>\n",
              "      <td>0.0</td>\n",
              "      <td>0.0</td>\n",
              "      <td>0.615438</td>\n",
              "    </tr>\n",
              "  </tbody>\n",
              "</table>\n",
              "</div>"
            ],
            "text/plain": [
              "                               center  ...     speed\n",
              "0  center_2018_07_16_17_11_43_382.jpg  ...  0.649786\n",
              "1  center_2018_07_16_17_11_43_670.jpg  ...  0.627942\n",
              "2  center_2018_07_16_17_11_43_724.jpg  ...  0.622910\n",
              "3  center_2018_07_16_17_11_43_792.jpg  ...  0.619162\n",
              "4  center_2018_07_16_17_11_43_860.jpg  ...  0.615438\n",
              "\n",
              "[5 rows x 7 columns]"
            ]
          },
          "metadata": {
            "tags": []
          },
          "execution_count": 40
        }
      ]
    },
    {
      "cell_type": "code",
      "metadata": {
        "id": "9yHwLrj9nKg-",
        "colab_type": "code",
        "outputId": "691d8646-8699-440c-a256-04fb250b6bb6",
        "colab": {
          "base_uri": "https://localhost:8080/",
          "height": 282
        }
      },
      "source": [
        "num_bins=25\n",
        "samples_per_bin = 200\n",
        "hist, bins = np.histogram(data['steering'], num_bins)\n",
        "center = (bins[:-1]+ bins[1:]) *0.5\n",
        "# print(center)\n",
        "plt.bar(center, hist, width=0.05)\n",
        "plt.plot((np.min(data['steering']), np.max(data['steering'])), (samples_per_bin, samples_per_bin))"
      ],
      "execution_count": 0,
      "outputs": [
        {
          "output_type": "execute_result",
          "data": {
            "text/plain": [
              "[<matplotlib.lines.Line2D at 0x7f3943f40ba8>]"
            ]
          },
          "metadata": {
            "tags": []
          },
          "execution_count": 41
        },
        {
          "output_type": "display_data",
          "data": {
            "image/png": "[encoded data removed]",
            "text/plain": [
              "<Figure size 432x288 with 1 Axes>"
            ]
          },
          "metadata": {
            "tags": []
          }
        }
      ]
    },
    {
      "cell_type": "code",
      "metadata": {
        "id": "3-yLHfxtnc41",
        "colab_type": "code",
        "outputId": "f9fa7eb8-cc1f-45bb-812f-80ecf52fc2e7",
        "colab": {
          "base_uri": "https://localhost:8080/",
          "height": 333
        }
      },
      "source": [
        "remove_list = []\n",
        "for j in range(num_bins):\n",
        "    list_ = []\n",
        "    for i in range(len(data['steering'])):\n",
        "        if data['steering'][i] >= bins[j] and data['steering'][i] <= bins[j+1]:\n",
        "            list_.append(i)\n",
        "    list_ = shuffle(list_)\n",
        "    list_ = list_[samples_per_bin:]\n",
        "    remove_list.extend(list_)\n",
        "\n",
        "print('Total Data   : ', len(data))\n",
        "print('Removed Data : ', len(remove_list))\n",
        "data.drop(data.index[remove_list], inplace=True)\n",
        "print('remaining:',len(data))\n",
        "\n",
        "hist, _ = np.histogram(data['steering'], (num_bins))\n",
        "plt.bar(center, hist, width=0.05)\n",
        "plt.plot((np.min(data['steering']), np.max(data['steering'])), (samples_per_bin, samples_per_bin))"
      ],
      "execution_count": 0,
      "outputs": [
        {
          "output_type": "stream",
          "text": [
            "Total Data   :  4053\n",
            "Removed Data :  2790\n",
            "remaining: 1263\n"
          ],
          "name": "stdout"
        },
        {
          "output_type": "execute_result",
          "data": {
            "text/plain": [
              "[<matplotlib.lines.Line2D at 0x7f3943e7b2b0>]"
            ]
          },
          "metadata": {
            "tags": []
          },
          "execution_count": 42
        },
        {
          "output_type": "display_data",
          "data": {
            "image/png": "[encoded data removed]",
            "text/plain": [
              "<Figure size 432x288 with 1 Axes>"
            ]
          },
          "metadata": {
            "tags": []
          }
        }
      ]
    },
    {
      "cell_type": "code",
      "metadata": {
        "id": "Cr7_sI-ppoUz",
        "colab_type": "code",
        "colab": {}
      },
      "source": [
        "def load_img_steering(datadir, df):\n",
        "    image_path = []\n",
        "    steering = []\n",
        "    for i in range(len(data)):\n",
        "        indexed_data = data.iloc[i]\n",
        "        center, left, right = indexed_data[0], indexed_data[1], indexed_data[2]\n",
        "        image_path.append(os.path.join(datadir, center.strip()))\n",
        "        steering.append(float(indexed_data[3]))\n",
        "    image_paths = np.asarray(image_path)\n",
        "    steerings = np.asarray(steering)\n",
        "    return image_paths, steerings\n",
        "\n",
        "image_paths, steerings = load_img_steering(datadir + '/IMG', data)"
      ],
      "execution_count": 0,
      "outputs": []
    },
    {
      "cell_type": "code",
      "metadata": {
        "id": "_IbHhpdzpmtL",
        "colab_type": "code",
        "outputId": "cdc25ac9-a569-4e9a-f778-96e1ffba1914",
        "colab": {
          "base_uri": "https://localhost:8080/",
          "height": 51
        }
      },
      "source": [
        "X_train, X_valid, y_train, y_valid = train_test_split(image_paths, steerings, test_size=0.2, random_state=6)\n",
        "print('Training Samples : {}\\nValid Samples    : {}'.format(len(X_train), len(X_valid)))"
      ],
      "execution_count": 0,
      "outputs": [
        {
          "output_type": "stream",
          "text": [
            "Training Samples : 1010\n",
            "Valid Samples    : 253\n"
          ],
          "name": "stdout"
        }
      ]
    },
    {
      "cell_type": "code",
      "metadata": {
        "id": "xC7aPySMwQ6d",
        "colab_type": "code",
        "outputId": "ed27643a-3332-47fe-89cf-e389cf569000",
        "colab": {
          "base_uri": "https://localhost:8080/",
          "height": 298
        }
      },
      "source": [
        "fig, axes = plt.subplots(1, 2, figsize=(12, 4))\n",
        "axes[0].hist(y_train, bins=num_bins, width=0.05, color='blue')\n",
        "axes[0].set_title('Training set')\n",
        "axes[1].hist(y_valid, bins=num_bins, width=0.05, color='red')\n",
        "axes[1].set_title('Validation set')"
      ],
      "execution_count": 0,
      "outputs": [
        {
          "output_type": "execute_result",
          "data": {
            "text/plain": [
              "Text(0.5, 1.0, 'Validation set')"
            ]
          },
          "metadata": {
            "tags": []
          },
          "execution_count": 59
        },
        {
          "output_type": "display_data",
          "data": {
            "image/png": "[encoded data removed]",
            "text/plain": [
              "<Figure size 864x288 with 2 Axes>"
            ]
          },
          "metadata": {
            "tags": []
          }
        }
      ]
    },
    {
      "cell_type": "code",
      "metadata": {
        "id": "ruGaWaewwvJE",
        "colab_type": "code",
        "colab": {}
      },
      "source": [
        ""
      ],
      "execution_count": 0,
      "outputs": []
    }
  ]
}